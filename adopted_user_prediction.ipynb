{
 "cells": [
  {
   "cell_type": "code",
   "execution_count": 3,
   "metadata": {},
   "outputs": [],
   "source": [
    "# importing all the required libraries and modules\n",
    "import pandas as pd\n",
    "import numpy as np\n",
    "import matplotlib.pyplot as plt\n",
    "import seaborn as sns\n",
    "import requests\n",
    "import json\n",
    "from pandas.io.json import json_normalize\n",
    "from datetime import datetime, timedelta\n",
    "import scipy.stats\n",
    "import matplotlib.dates as mdates\n",
    "import plotly.graph_objects as go\n",
    "plt.style.use('bmh')"
   ]
  },
  {
   "cell_type": "markdown",
   "metadata": {},
   "source": [
    "### Create the label column \"adopted user\" who is a user who has logged into the product on three separate days in at least one sevenday period"
   ]
  },
  {
   "cell_type": "code",
   "execution_count": 1,
   "metadata": {},
   "outputs": [
    {
     "name": "stdout",
     "output_type": "stream",
     "text": [
      "<_io.TextIOWrapper name='takehome_users.csv' mode='r' encoding='cp1252'>\n",
      "<_io.TextIOWrapper name='takehome_user_engagement.csv' mode='r' encoding='cp1252'>\n"
     ]
    }
   ],
   "source": [
    "# Checking the encoding of the csv files\n",
    "with open('takehome_users.csv') as f:\n",
    "    print(f)\n",
    "    #for text in f:\n",
    "        #print(text)\n",
    "with open('takehome_user_engagement.csv') as f:\n",
    "    print(f)"
   ]
  },
  {
   "cell_type": "code",
   "execution_count": 4,
   "metadata": {},
   "outputs": [],
   "source": [
    "# Importing the csv file into a dataframe using the above encoding\n",
    "\n",
    "# load as Pandas dataframe\n",
    "users = pd.read_csv('takehome_users.csv', parse_dates = ['creation_time'], \n",
    "                    encoding = \"cp1252\")\n",
    "user_eng = pd.read_csv('takehome_user_engagement.csv',  parse_dates = ['time_stamp'], \n",
    "                       encoding = \"cp1252\")"
   ]
  },
  {
   "cell_type": "code",
   "execution_count": 5,
   "metadata": {},
   "outputs": [
    {
     "name": "stdout",
     "output_type": "stream",
     "text": [
      "<class 'pandas.core.frame.DataFrame'>\n",
      "RangeIndex: 12000 entries, 0 to 11999\n",
      "Data columns (total 10 columns):\n",
      " #   Column                      Non-Null Count  Dtype         \n",
      "---  ------                      --------------  -----         \n",
      " 0   object_id                   12000 non-null  int64         \n",
      " 1   creation_time               12000 non-null  datetime64[ns]\n",
      " 2   name                        12000 non-null  object        \n",
      " 3   email                       12000 non-null  object        \n",
      " 4   creation_source             12000 non-null  object        \n",
      " 5   last_session_creation_time  8823 non-null   float64       \n",
      " 6   opted_in_to_mailing_list    12000 non-null  int64         \n",
      " 7   enabled_for_marketing_drip  12000 non-null  int64         \n",
      " 8   org_id                      12000 non-null  int64         \n",
      " 9   invited_by_user_id          6417 non-null   float64       \n",
      "dtypes: datetime64[ns](1), float64(2), int64(4), object(3)\n",
      "memory usage: 937.6+ KB\n"
     ]
    }
   ],
   "source": [
    "users.info()"
   ]
  },
  {
   "cell_type": "code",
   "execution_count": 10,
   "metadata": {},
   "outputs": [
    {
     "data": {
      "text/html": [
       "<div>\n",
       "<style scoped>\n",
       "    .dataframe tbody tr th:only-of-type {\n",
       "        vertical-align: middle;\n",
       "    }\n",
       "\n",
       "    .dataframe tbody tr th {\n",
       "        vertical-align: top;\n",
       "    }\n",
       "\n",
       "    .dataframe thead th {\n",
       "        text-align: right;\n",
       "    }\n",
       "</style>\n",
       "<table border=\"1\" class=\"dataframe\">\n",
       "  <thead>\n",
       "    <tr style=\"text-align: right;\">\n",
       "      <th></th>\n",
       "      <th>count</th>\n",
       "      <th>mean</th>\n",
       "      <th>std</th>\n",
       "      <th>min</th>\n",
       "      <th>25%</th>\n",
       "      <th>50%</th>\n",
       "      <th>75%</th>\n",
       "      <th>max</th>\n",
       "    </tr>\n",
       "  </thead>\n",
       "  <tbody>\n",
       "    <tr>\n",
       "      <th>object_id</th>\n",
       "      <td>12000.0</td>\n",
       "      <td>6.000500e+03</td>\n",
       "      <td>3.464246e+03</td>\n",
       "      <td>1.000000e+00</td>\n",
       "      <td>3.000750e+03</td>\n",
       "      <td>6.000500e+03</td>\n",
       "      <td>9.000250e+03</td>\n",
       "      <td>1.200000e+04</td>\n",
       "    </tr>\n",
       "    <tr>\n",
       "      <th>last_session_creation_time</th>\n",
       "      <td>8823.0</td>\n",
       "      <td>1.379279e+09</td>\n",
       "      <td>1.953116e+07</td>\n",
       "      <td>1.338452e+09</td>\n",
       "      <td>1.363195e+09</td>\n",
       "      <td>1.382888e+09</td>\n",
       "      <td>1.398443e+09</td>\n",
       "      <td>1.402067e+09</td>\n",
       "    </tr>\n",
       "    <tr>\n",
       "      <th>opted_in_to_mailing_list</th>\n",
       "      <td>12000.0</td>\n",
       "      <td>2.495000e-01</td>\n",
       "      <td>4.327417e-01</td>\n",
       "      <td>0.000000e+00</td>\n",
       "      <td>0.000000e+00</td>\n",
       "      <td>0.000000e+00</td>\n",
       "      <td>0.000000e+00</td>\n",
       "      <td>1.000000e+00</td>\n",
       "    </tr>\n",
       "    <tr>\n",
       "      <th>enabled_for_marketing_drip</th>\n",
       "      <td>12000.0</td>\n",
       "      <td>1.493333e-01</td>\n",
       "      <td>3.564316e-01</td>\n",
       "      <td>0.000000e+00</td>\n",
       "      <td>0.000000e+00</td>\n",
       "      <td>0.000000e+00</td>\n",
       "      <td>0.000000e+00</td>\n",
       "      <td>1.000000e+00</td>\n",
       "    </tr>\n",
       "    <tr>\n",
       "      <th>org_id</th>\n",
       "      <td>12000.0</td>\n",
       "      <td>1.418846e+02</td>\n",
       "      <td>1.240567e+02</td>\n",
       "      <td>0.000000e+00</td>\n",
       "      <td>2.900000e+01</td>\n",
       "      <td>1.080000e+02</td>\n",
       "      <td>2.382500e+02</td>\n",
       "      <td>4.160000e+02</td>\n",
       "    </tr>\n",
       "    <tr>\n",
       "      <th>invited_by_user_id</th>\n",
       "      <td>6417.0</td>\n",
       "      <td>5.962957e+03</td>\n",
       "      <td>3.383762e+03</td>\n",
       "      <td>3.000000e+00</td>\n",
       "      <td>3.058000e+03</td>\n",
       "      <td>5.954000e+03</td>\n",
       "      <td>8.817000e+03</td>\n",
       "      <td>1.199900e+04</td>\n",
       "    </tr>\n",
       "  </tbody>\n",
       "</table>\n",
       "</div>"
      ],
      "text/plain": [
       "                              count          mean           std           min  \\\n",
       "object_id                   12000.0  6.000500e+03  3.464246e+03  1.000000e+00   \n",
       "last_session_creation_time   8823.0  1.379279e+09  1.953116e+07  1.338452e+09   \n",
       "opted_in_to_mailing_list    12000.0  2.495000e-01  4.327417e-01  0.000000e+00   \n",
       "enabled_for_marketing_drip  12000.0  1.493333e-01  3.564316e-01  0.000000e+00   \n",
       "org_id                      12000.0  1.418846e+02  1.240567e+02  0.000000e+00   \n",
       "invited_by_user_id           6417.0  5.962957e+03  3.383762e+03  3.000000e+00   \n",
       "\n",
       "                                     25%           50%           75%  \\\n",
       "object_id                   3.000750e+03  6.000500e+03  9.000250e+03   \n",
       "last_session_creation_time  1.363195e+09  1.382888e+09  1.398443e+09   \n",
       "opted_in_to_mailing_list    0.000000e+00  0.000000e+00  0.000000e+00   \n",
       "enabled_for_marketing_drip  0.000000e+00  0.000000e+00  0.000000e+00   \n",
       "org_id                      2.900000e+01  1.080000e+02  2.382500e+02   \n",
       "invited_by_user_id          3.058000e+03  5.954000e+03  8.817000e+03   \n",
       "\n",
       "                                     max  \n",
       "object_id                   1.200000e+04  \n",
       "last_session_creation_time  1.402067e+09  \n",
       "opted_in_to_mailing_list    1.000000e+00  \n",
       "enabled_for_marketing_drip  1.000000e+00  \n",
       "org_id                      4.160000e+02  \n",
       "invited_by_user_id          1.199900e+04  "
      ]
     },
     "execution_count": 10,
     "metadata": {},
     "output_type": "execute_result"
    }
   ],
   "source": [
    "users.describe().T"
   ]
  },
  {
   "cell_type": "code",
   "execution_count": 11,
   "metadata": {},
   "outputs": [
    {
     "name": "stdout",
     "output_type": "stream",
     "text": [
      "<class 'pandas.core.frame.DataFrame'>\n",
      "RangeIndex: 207917 entries, 0 to 207916\n",
      "Data columns (total 3 columns):\n",
      " #   Column      Non-Null Count   Dtype         \n",
      "---  ------      --------------   -----         \n",
      " 0   time_stamp  207917 non-null  datetime64[ns]\n",
      " 1   user_id     207917 non-null  int64         \n",
      " 2   visited     207917 non-null  int64         \n",
      "dtypes: datetime64[ns](1), int64(2)\n",
      "memory usage: 4.8 MB\n"
     ]
    }
   ],
   "source": [
    "user_eng.info()"
   ]
  },
  {
   "cell_type": "code",
   "execution_count": 12,
   "metadata": {},
   "outputs": [
    {
     "data": {
      "text/html": [
       "<div>\n",
       "<style scoped>\n",
       "    .dataframe tbody tr th:only-of-type {\n",
       "        vertical-align: middle;\n",
       "    }\n",
       "\n",
       "    .dataframe tbody tr th {\n",
       "        vertical-align: top;\n",
       "    }\n",
       "\n",
       "    .dataframe thead th {\n",
       "        text-align: right;\n",
       "    }\n",
       "</style>\n",
       "<table border=\"1\" class=\"dataframe\">\n",
       "  <thead>\n",
       "    <tr style=\"text-align: right;\">\n",
       "      <th></th>\n",
       "      <th>count</th>\n",
       "      <th>mean</th>\n",
       "      <th>std</th>\n",
       "      <th>min</th>\n",
       "      <th>25%</th>\n",
       "      <th>50%</th>\n",
       "      <th>75%</th>\n",
       "      <th>max</th>\n",
       "    </tr>\n",
       "  </thead>\n",
       "  <tbody>\n",
       "    <tr>\n",
       "      <th>user_id</th>\n",
       "      <td>207917.0</td>\n",
       "      <td>5913.314197</td>\n",
       "      <td>3394.941674</td>\n",
       "      <td>1.0</td>\n",
       "      <td>3087.0</td>\n",
       "      <td>5682.0</td>\n",
       "      <td>8944.0</td>\n",
       "      <td>12000.0</td>\n",
       "    </tr>\n",
       "    <tr>\n",
       "      <th>visited</th>\n",
       "      <td>207917.0</td>\n",
       "      <td>1.000000</td>\n",
       "      <td>0.000000</td>\n",
       "      <td>1.0</td>\n",
       "      <td>1.0</td>\n",
       "      <td>1.0</td>\n",
       "      <td>1.0</td>\n",
       "      <td>1.0</td>\n",
       "    </tr>\n",
       "  </tbody>\n",
       "</table>\n",
       "</div>"
      ],
      "text/plain": [
       "            count         mean          std  min     25%     50%     75%  \\\n",
       "user_id  207917.0  5913.314197  3394.941674  1.0  3087.0  5682.0  8944.0   \n",
       "visited  207917.0     1.000000     0.000000  1.0     1.0     1.0     1.0   \n",
       "\n",
       "             max  \n",
       "user_id  12000.0  \n",
       "visited      1.0  "
      ]
     },
     "execution_count": 12,
     "metadata": {},
     "output_type": "execute_result"
    }
   ],
   "source": [
    "user_eng.describe().T"
   ]
  },
  {
   "cell_type": "code",
   "execution_count": 13,
   "metadata": {},
   "outputs": [
    {
     "data": {
      "text/plain": [
       "8823"
      ]
     },
     "execution_count": 13,
     "metadata": {},
     "output_type": "execute_result"
    }
   ],
   "source": [
    "user_eng.user_id.nunique()"
   ]
  },
  {
   "cell_type": "code",
   "execution_count": 203,
   "metadata": {},
   "outputs": [
    {
     "data": {
      "text/html": [
       "<div>\n",
       "<style scoped>\n",
       "    .dataframe tbody tr th:only-of-type {\n",
       "        vertical-align: middle;\n",
       "    }\n",
       "\n",
       "    .dataframe tbody tr th {\n",
       "        vertical-align: top;\n",
       "    }\n",
       "\n",
       "    .dataframe thead th {\n",
       "        text-align: right;\n",
       "    }\n",
       "</style>\n",
       "<table border=\"1\" class=\"dataframe\">\n",
       "  <thead>\n",
       "    <tr style=\"text-align: right;\">\n",
       "      <th></th>\n",
       "      <th>object_id</th>\n",
       "      <th>creation_time</th>\n",
       "      <th>name</th>\n",
       "      <th>email</th>\n",
       "      <th>creation_source</th>\n",
       "      <th>last_session_creation_time</th>\n",
       "      <th>opted_in_to_mailing_list</th>\n",
       "      <th>enabled_for_marketing_drip</th>\n",
       "      <th>org_id</th>\n",
       "      <th>invited_by_user_id</th>\n",
       "    </tr>\n",
       "  </thead>\n",
       "  <tbody>\n",
       "    <tr>\n",
       "      <td>0</td>\n",
       "      <td>1</td>\n",
       "      <td>2014-04-22 03:53:30</td>\n",
       "      <td>Clausen August</td>\n",
       "      <td>AugustCClausen@yahoo.com</td>\n",
       "      <td>GUEST_INVITE</td>\n",
       "      <td>1.398139e+09</td>\n",
       "      <td>1</td>\n",
       "      <td>0</td>\n",
       "      <td>11</td>\n",
       "      <td>10803.0</td>\n",
       "    </tr>\n",
       "    <tr>\n",
       "      <td>1</td>\n",
       "      <td>2</td>\n",
       "      <td>2013-11-15 03:45:04</td>\n",
       "      <td>Poole Matthew</td>\n",
       "      <td>MatthewPoole@gustr.com</td>\n",
       "      <td>ORG_INVITE</td>\n",
       "      <td>1.396238e+09</td>\n",
       "      <td>0</td>\n",
       "      <td>0</td>\n",
       "      <td>1</td>\n",
       "      <td>316.0</td>\n",
       "    </tr>\n",
       "    <tr>\n",
       "      <td>2</td>\n",
       "      <td>3</td>\n",
       "      <td>2013-03-19 23:14:52</td>\n",
       "      <td>Bottrill Mitchell</td>\n",
       "      <td>MitchellBottrill@gustr.com</td>\n",
       "      <td>ORG_INVITE</td>\n",
       "      <td>1.363735e+09</td>\n",
       "      <td>0</td>\n",
       "      <td>0</td>\n",
       "      <td>94</td>\n",
       "      <td>1525.0</td>\n",
       "    </tr>\n",
       "    <tr>\n",
       "      <td>3</td>\n",
       "      <td>4</td>\n",
       "      <td>2013-05-21 08:09:28</td>\n",
       "      <td>Clausen Nicklas</td>\n",
       "      <td>NicklasSClausen@yahoo.com</td>\n",
       "      <td>GUEST_INVITE</td>\n",
       "      <td>1.369210e+09</td>\n",
       "      <td>0</td>\n",
       "      <td>0</td>\n",
       "      <td>1</td>\n",
       "      <td>5151.0</td>\n",
       "    </tr>\n",
       "    <tr>\n",
       "      <td>4</td>\n",
       "      <td>5</td>\n",
       "      <td>2013-01-17 10:14:20</td>\n",
       "      <td>Raw Grace</td>\n",
       "      <td>GraceRaw@yahoo.com</td>\n",
       "      <td>GUEST_INVITE</td>\n",
       "      <td>1.358850e+09</td>\n",
       "      <td>0</td>\n",
       "      <td>0</td>\n",
       "      <td>193</td>\n",
       "      <td>5240.0</td>\n",
       "    </tr>\n",
       "  </tbody>\n",
       "</table>\n",
       "</div>"
      ],
      "text/plain": [
       "   object_id       creation_time               name  \\\n",
       "0          1 2014-04-22 03:53:30     Clausen August   \n",
       "1          2 2013-11-15 03:45:04      Poole Matthew   \n",
       "2          3 2013-03-19 23:14:52  Bottrill Mitchell   \n",
       "3          4 2013-05-21 08:09:28    Clausen Nicklas   \n",
       "4          5 2013-01-17 10:14:20          Raw Grace   \n",
       "\n",
       "                        email creation_source  last_session_creation_time  \\\n",
       "0    AugustCClausen@yahoo.com    GUEST_INVITE                1.398139e+09   \n",
       "1      MatthewPoole@gustr.com      ORG_INVITE                1.396238e+09   \n",
       "2  MitchellBottrill@gustr.com      ORG_INVITE                1.363735e+09   \n",
       "3   NicklasSClausen@yahoo.com    GUEST_INVITE                1.369210e+09   \n",
       "4          GraceRaw@yahoo.com    GUEST_INVITE                1.358850e+09   \n",
       "\n",
       "   opted_in_to_mailing_list  enabled_for_marketing_drip  org_id  \\\n",
       "0                         1                           0      11   \n",
       "1                         0                           0       1   \n",
       "2                         0                           0      94   \n",
       "3                         0                           0       1   \n",
       "4                         0                           0     193   \n",
       "\n",
       "   invited_by_user_id  \n",
       "0             10803.0  \n",
       "1               316.0  \n",
       "2              1525.0  \n",
       "3              5151.0  \n",
       "4              5240.0  "
      ]
     },
     "execution_count": 203,
     "metadata": {},
     "output_type": "execute_result"
    }
   ],
   "source": [
    "users.head()"
   ]
  },
  {
   "cell_type": "code",
   "execution_count": 204,
   "metadata": {},
   "outputs": [
    {
     "data": {
      "text/html": [
       "<div>\n",
       "<style scoped>\n",
       "    .dataframe tbody tr th:only-of-type {\n",
       "        vertical-align: middle;\n",
       "    }\n",
       "\n",
       "    .dataframe tbody tr th {\n",
       "        vertical-align: top;\n",
       "    }\n",
       "\n",
       "    .dataframe thead th {\n",
       "        text-align: right;\n",
       "    }\n",
       "</style>\n",
       "<table border=\"1\" class=\"dataframe\">\n",
       "  <thead>\n",
       "    <tr style=\"text-align: right;\">\n",
       "      <th></th>\n",
       "      <th>time_stamp</th>\n",
       "      <th>user_id</th>\n",
       "      <th>visited</th>\n",
       "    </tr>\n",
       "  </thead>\n",
       "  <tbody>\n",
       "    <tr>\n",
       "      <td>0</td>\n",
       "      <td>2014-04-22 03:53:30</td>\n",
       "      <td>1</td>\n",
       "      <td>1</td>\n",
       "    </tr>\n",
       "    <tr>\n",
       "      <td>1</td>\n",
       "      <td>2013-11-15 03:45:04</td>\n",
       "      <td>2</td>\n",
       "      <td>1</td>\n",
       "    </tr>\n",
       "    <tr>\n",
       "      <td>2</td>\n",
       "      <td>2013-11-29 03:45:04</td>\n",
       "      <td>2</td>\n",
       "      <td>1</td>\n",
       "    </tr>\n",
       "    <tr>\n",
       "      <td>3</td>\n",
       "      <td>2013-12-09 03:45:04</td>\n",
       "      <td>2</td>\n",
       "      <td>1</td>\n",
       "    </tr>\n",
       "    <tr>\n",
       "      <td>4</td>\n",
       "      <td>2013-12-25 03:45:04</td>\n",
       "      <td>2</td>\n",
       "      <td>1</td>\n",
       "    </tr>\n",
       "  </tbody>\n",
       "</table>\n",
       "</div>"
      ],
      "text/plain": [
       "           time_stamp  user_id  visited\n",
       "0 2014-04-22 03:53:30        1        1\n",
       "1 2013-11-15 03:45:04        2        1\n",
       "2 2013-11-29 03:45:04        2        1\n",
       "3 2013-12-09 03:45:04        2        1\n",
       "4 2013-12-25 03:45:04        2        1"
      ]
     },
     "execution_count": 204,
     "metadata": {},
     "output_type": "execute_result"
    }
   ],
   "source": [
    "user_eng.head()"
   ]
  },
  {
   "cell_type": "markdown",
   "metadata": {},
   "source": [
    "## _users_ dataframe has some null values in the _last_session_creation_time_ and _invited_by_user_id_ columns. We will deal with the missing values later.\n",
    "\n",
    "## user_eng dataframe seems to be sorted according to the _user_id_ and _time_stamp_ column and there is data for 8823 users out of the total 12000 users registered under the _users_ dataframe."
   ]
  },
  {
   "cell_type": "markdown",
   "metadata": {},
   "source": [
    "Converting the _last_session_creation_time_ column in the users column to datetime."
   ]
  },
  {
   "cell_type": "code",
   "execution_count": 205,
   "metadata": {},
   "outputs": [],
   "source": [
    "users['last_session_creation_time'] = pd.to_datetime(users['last_session_creation_time'] ,unit='s')"
   ]
  },
  {
   "cell_type": "code",
   "execution_count": 206,
   "metadata": {},
   "outputs": [
    {
     "data": {
      "text/plain": [
       "dtype('<M8[ns]')"
      ]
     },
     "execution_count": 206,
     "metadata": {},
     "output_type": "execute_result"
    }
   ],
   "source": [
    "users.last_session_creation_time.dtypes"
   ]
  },
  {
   "cell_type": "code",
   "execution_count": 207,
   "metadata": {},
   "outputs": [
    {
     "data": {
      "text/html": [
       "<div>\n",
       "<style scoped>\n",
       "    .dataframe tbody tr th:only-of-type {\n",
       "        vertical-align: middle;\n",
       "    }\n",
       "\n",
       "    .dataframe tbody tr th {\n",
       "        vertical-align: top;\n",
       "    }\n",
       "\n",
       "    .dataframe thead th {\n",
       "        text-align: right;\n",
       "    }\n",
       "</style>\n",
       "<table border=\"1\" class=\"dataframe\">\n",
       "  <thead>\n",
       "    <tr style=\"text-align: right;\">\n",
       "      <th></th>\n",
       "      <th>object_id</th>\n",
       "      <th>creation_time</th>\n",
       "      <th>name</th>\n",
       "      <th>email</th>\n",
       "      <th>creation_source</th>\n",
       "      <th>last_session_creation_time</th>\n",
       "      <th>opted_in_to_mailing_list</th>\n",
       "      <th>enabled_for_marketing_drip</th>\n",
       "      <th>org_id</th>\n",
       "      <th>invited_by_user_id</th>\n",
       "    </tr>\n",
       "  </thead>\n",
       "  <tbody>\n",
       "    <tr>\n",
       "      <td>0</td>\n",
       "      <td>1</td>\n",
       "      <td>2014-04-22 03:53:30</td>\n",
       "      <td>Clausen August</td>\n",
       "      <td>AugustCClausen@yahoo.com</td>\n",
       "      <td>GUEST_INVITE</td>\n",
       "      <td>2014-04-22 03:53:30</td>\n",
       "      <td>1</td>\n",
       "      <td>0</td>\n",
       "      <td>11</td>\n",
       "      <td>10803.0</td>\n",
       "    </tr>\n",
       "    <tr>\n",
       "      <td>1</td>\n",
       "      <td>2</td>\n",
       "      <td>2013-11-15 03:45:04</td>\n",
       "      <td>Poole Matthew</td>\n",
       "      <td>MatthewPoole@gustr.com</td>\n",
       "      <td>ORG_INVITE</td>\n",
       "      <td>2014-03-31 03:45:04</td>\n",
       "      <td>0</td>\n",
       "      <td>0</td>\n",
       "      <td>1</td>\n",
       "      <td>316.0</td>\n",
       "    </tr>\n",
       "    <tr>\n",
       "      <td>2</td>\n",
       "      <td>3</td>\n",
       "      <td>2013-03-19 23:14:52</td>\n",
       "      <td>Bottrill Mitchell</td>\n",
       "      <td>MitchellBottrill@gustr.com</td>\n",
       "      <td>ORG_INVITE</td>\n",
       "      <td>2013-03-19 23:14:52</td>\n",
       "      <td>0</td>\n",
       "      <td>0</td>\n",
       "      <td>94</td>\n",
       "      <td>1525.0</td>\n",
       "    </tr>\n",
       "  </tbody>\n",
       "</table>\n",
       "</div>"
      ],
      "text/plain": [
       "   object_id       creation_time               name  \\\n",
       "0          1 2014-04-22 03:53:30     Clausen August   \n",
       "1          2 2013-11-15 03:45:04      Poole Matthew   \n",
       "2          3 2013-03-19 23:14:52  Bottrill Mitchell   \n",
       "\n",
       "                        email creation_source last_session_creation_time  \\\n",
       "0    AugustCClausen@yahoo.com    GUEST_INVITE        2014-04-22 03:53:30   \n",
       "1      MatthewPoole@gustr.com      ORG_INVITE        2014-03-31 03:45:04   \n",
       "2  MitchellBottrill@gustr.com      ORG_INVITE        2013-03-19 23:14:52   \n",
       "\n",
       "   opted_in_to_mailing_list  enabled_for_marketing_drip  org_id  \\\n",
       "0                         1                           0      11   \n",
       "1                         0                           0       1   \n",
       "2                         0                           0      94   \n",
       "\n",
       "   invited_by_user_id  \n",
       "0             10803.0  \n",
       "1               316.0  \n",
       "2              1525.0  "
      ]
     },
     "execution_count": 207,
     "metadata": {},
     "output_type": "execute_result"
    }
   ],
   "source": [
    "users.head(3)"
   ]
  },
  {
   "cell_type": "code",
   "execution_count": 208,
   "metadata": {},
   "outputs": [
    {
     "data": {
      "text/plain": [
       "(Timestamp('2012-05-31 08:20:06'), Timestamp('2014-06-06 14:58:50'))"
      ]
     },
     "execution_count": 208,
     "metadata": {},
     "output_type": "execute_result"
    }
   ],
   "source": [
    "users['last_session_creation_time'].min(), users['last_session_creation_time'].max()"
   ]
  },
  {
   "cell_type": "code",
   "execution_count": 209,
   "metadata": {},
   "outputs": [
    {
     "data": {
      "text/plain": [
       "(Timestamp('2012-05-31 00:43:27'), Timestamp('2014-05-30 23:59:19'))"
      ]
     },
     "execution_count": 209,
     "metadata": {},
     "output_type": "execute_result"
    }
   ],
   "source": [
    "users['creation_time'].min(), users['creation_time'].max()"
   ]
  },
  {
   "cell_type": "markdown",
   "metadata": {},
   "source": [
    "#### For determining which users can be labeled as adopted users, we can use groupby and rolling methods to find the users who were active for more than 3 days in any of the 7 day rolling period. "
   ]
  },
  {
   "cell_type": "code",
   "execution_count": 217,
   "metadata": {},
   "outputs": [],
   "source": [
    "df = user_eng.copy()"
   ]
  },
  {
   "cell_type": "code",
   "execution_count": 220,
   "metadata": {},
   "outputs": [],
   "source": [
    "df['date'] = pd.to_datetime(df.time_stamp.dt.date)"
   ]
  },
  {
   "cell_type": "code",
   "execution_count": 221,
   "metadata": {},
   "outputs": [],
   "source": [
    "def rolling_count(df_group, frequency):\n",
    "    return df_group.rolling(frequency, on='date')['user_id'].count()"
   ]
  },
  {
   "cell_type": "code",
   "execution_count": 222,
   "metadata": {},
   "outputs": [],
   "source": [
    "df['visits_7_days'] = df.groupby('user_id', as_index=False, group_keys=False).apply(rolling_count, '7D')"
   ]
  },
  {
   "cell_type": "code",
   "execution_count": 223,
   "metadata": {},
   "outputs": [
    {
     "data": {
      "text/html": [
       "<div>\n",
       "<style scoped>\n",
       "    .dataframe tbody tr th:only-of-type {\n",
       "        vertical-align: middle;\n",
       "    }\n",
       "\n",
       "    .dataframe tbody tr th {\n",
       "        vertical-align: top;\n",
       "    }\n",
       "\n",
       "    .dataframe thead th {\n",
       "        text-align: right;\n",
       "    }\n",
       "</style>\n",
       "<table border=\"1\" class=\"dataframe\">\n",
       "  <thead>\n",
       "    <tr style=\"text-align: right;\">\n",
       "      <th></th>\n",
       "      <th>count</th>\n",
       "      <th>mean</th>\n",
       "      <th>std</th>\n",
       "      <th>min</th>\n",
       "      <th>25%</th>\n",
       "      <th>50%</th>\n",
       "      <th>75%</th>\n",
       "      <th>max</th>\n",
       "    </tr>\n",
       "  </thead>\n",
       "  <tbody>\n",
       "    <tr>\n",
       "      <td>user_id</td>\n",
       "      <td>207917.0</td>\n",
       "      <td>5913.314197</td>\n",
       "      <td>3394.941674</td>\n",
       "      <td>1.0</td>\n",
       "      <td>3087.0</td>\n",
       "      <td>5682.0</td>\n",
       "      <td>8944.0</td>\n",
       "      <td>12000.0</td>\n",
       "    </tr>\n",
       "    <tr>\n",
       "      <td>visited</td>\n",
       "      <td>207917.0</td>\n",
       "      <td>1.000000</td>\n",
       "      <td>0.000000</td>\n",
       "      <td>1.0</td>\n",
       "      <td>1.0</td>\n",
       "      <td>1.0</td>\n",
       "      <td>1.0</td>\n",
       "      <td>1.0</td>\n",
       "    </tr>\n",
       "    <tr>\n",
       "      <td>visits_7_days</td>\n",
       "      <td>207917.0</td>\n",
       "      <td>4.381393</td>\n",
       "      <td>2.042666</td>\n",
       "      <td>1.0</td>\n",
       "      <td>3.0</td>\n",
       "      <td>4.0</td>\n",
       "      <td>6.0</td>\n",
       "      <td>7.0</td>\n",
       "    </tr>\n",
       "  </tbody>\n",
       "</table>\n",
       "</div>"
      ],
      "text/plain": [
       "                  count         mean          std  min     25%     50%  \\\n",
       "user_id        207917.0  5913.314197  3394.941674  1.0  3087.0  5682.0   \n",
       "visited        207917.0     1.000000     0.000000  1.0     1.0     1.0   \n",
       "visits_7_days  207917.0     4.381393     2.042666  1.0     3.0     4.0   \n",
       "\n",
       "                  75%      max  \n",
       "user_id        8944.0  12000.0  \n",
       "visited           1.0      1.0  \n",
       "visits_7_days     6.0      7.0  "
      ]
     },
     "execution_count": 223,
     "metadata": {},
     "output_type": "execute_result"
    }
   ],
   "source": [
    "df.describe().T"
   ]
  },
  {
   "cell_type": "code",
   "execution_count": 224,
   "metadata": {},
   "outputs": [
    {
     "data": {
      "text/html": [
       "<div>\n",
       "<style scoped>\n",
       "    .dataframe tbody tr th:only-of-type {\n",
       "        vertical-align: middle;\n",
       "    }\n",
       "\n",
       "    .dataframe tbody tr th {\n",
       "        vertical-align: top;\n",
       "    }\n",
       "\n",
       "    .dataframe thead th {\n",
       "        text-align: right;\n",
       "    }\n",
       "</style>\n",
       "<table border=\"1\" class=\"dataframe\">\n",
       "  <thead>\n",
       "    <tr style=\"text-align: right;\">\n",
       "      <th></th>\n",
       "      <th>time_stamp</th>\n",
       "      <th>user_id</th>\n",
       "      <th>visited</th>\n",
       "      <th>date</th>\n",
       "      <th>visits_7_days</th>\n",
       "    </tr>\n",
       "  </thead>\n",
       "  <tbody>\n",
       "    <tr>\n",
       "      <td>9</td>\n",
       "      <td>2014-02-09 03:45:04</td>\n",
       "      <td>2</td>\n",
       "      <td>1</td>\n",
       "      <td>2014-02-09</td>\n",
       "      <td>3.0</td>\n",
       "    </tr>\n",
       "    <tr>\n",
       "      <td>10</td>\n",
       "      <td>2014-02-13 03:45:04</td>\n",
       "      <td>2</td>\n",
       "      <td>1</td>\n",
       "      <td>2014-02-13</td>\n",
       "      <td>3.0</td>\n",
       "    </tr>\n",
       "    <tr>\n",
       "      <td>27</td>\n",
       "      <td>2013-02-19 22:08:03</td>\n",
       "      <td>10</td>\n",
       "      <td>1</td>\n",
       "      <td>2013-02-19</td>\n",
       "      <td>3.0</td>\n",
       "    </tr>\n",
       "    <tr>\n",
       "      <td>30</td>\n",
       "      <td>2013-03-02 22:08:03</td>\n",
       "      <td>10</td>\n",
       "      <td>1</td>\n",
       "      <td>2013-03-02</td>\n",
       "      <td>3.0</td>\n",
       "    </tr>\n",
       "    <tr>\n",
       "      <td>31</td>\n",
       "      <td>2013-03-05 22:08:03</td>\n",
       "      <td>10</td>\n",
       "      <td>1</td>\n",
       "      <td>2013-03-05</td>\n",
       "      <td>3.0</td>\n",
       "    </tr>\n",
       "    <tr>\n",
       "      <td>...</td>\n",
       "      <td>...</td>\n",
       "      <td>...</td>\n",
       "      <td>...</td>\n",
       "      <td>...</td>\n",
       "      <td>...</td>\n",
       "    </tr>\n",
       "    <tr>\n",
       "      <td>207898</td>\n",
       "      <td>2014-05-23 11:04:47</td>\n",
       "      <td>11988</td>\n",
       "      <td>1</td>\n",
       "      <td>2014-05-23</td>\n",
       "      <td>6.0</td>\n",
       "    </tr>\n",
       "    <tr>\n",
       "      <td>207899</td>\n",
       "      <td>2014-05-24 11:04:47</td>\n",
       "      <td>11988</td>\n",
       "      <td>1</td>\n",
       "      <td>2014-05-24</td>\n",
       "      <td>6.0</td>\n",
       "    </tr>\n",
       "    <tr>\n",
       "      <td>207900</td>\n",
       "      <td>2014-05-26 11:04:47</td>\n",
       "      <td>11988</td>\n",
       "      <td>1</td>\n",
       "      <td>2014-05-26</td>\n",
       "      <td>5.0</td>\n",
       "    </tr>\n",
       "    <tr>\n",
       "      <td>207901</td>\n",
       "      <td>2014-05-27 11:04:47</td>\n",
       "      <td>11988</td>\n",
       "      <td>1</td>\n",
       "      <td>2014-05-27</td>\n",
       "      <td>5.0</td>\n",
       "    </tr>\n",
       "    <tr>\n",
       "      <td>207902</td>\n",
       "      <td>2014-06-01 11:04:47</td>\n",
       "      <td>11988</td>\n",
       "      <td>1</td>\n",
       "      <td>2014-06-01</td>\n",
       "      <td>3.0</td>\n",
       "    </tr>\n",
       "  </tbody>\n",
       "</table>\n",
       "<p>160522 rows × 5 columns</p>\n",
       "</div>"
      ],
      "text/plain": [
       "                time_stamp  user_id  visited       date  visits_7_days\n",
       "9      2014-02-09 03:45:04        2        1 2014-02-09            3.0\n",
       "10     2014-02-13 03:45:04        2        1 2014-02-13            3.0\n",
       "27     2013-02-19 22:08:03       10        1 2013-02-19            3.0\n",
       "30     2013-03-02 22:08:03       10        1 2013-03-02            3.0\n",
       "31     2013-03-05 22:08:03       10        1 2013-03-05            3.0\n",
       "...                    ...      ...      ...        ...            ...\n",
       "207898 2014-05-23 11:04:47    11988        1 2014-05-23            6.0\n",
       "207899 2014-05-24 11:04:47    11988        1 2014-05-24            6.0\n",
       "207900 2014-05-26 11:04:47    11988        1 2014-05-26            5.0\n",
       "207901 2014-05-27 11:04:47    11988        1 2014-05-27            5.0\n",
       "207902 2014-06-01 11:04:47    11988        1 2014-06-01            3.0\n",
       "\n",
       "[160522 rows x 5 columns]"
      ]
     },
     "execution_count": 224,
     "metadata": {},
     "output_type": "execute_result"
    }
   ],
   "source": [
    "df[df.visits_7_days >= 3.0]"
   ]
  },
  {
   "cell_type": "markdown",
   "metadata": {},
   "source": [
    "#### If any of the values in the _visits_7_days_ column is >=3, then we can label that user as adopted."
   ]
  },
  {
   "cell_type": "code",
   "execution_count": 258,
   "metadata": {},
   "outputs": [],
   "source": [
    "user_adopted = df.groupby('user_id')['visits_7_days'].max().reset_index()"
   ]
  },
  {
   "cell_type": "code",
   "execution_count": 259,
   "metadata": {},
   "outputs": [],
   "source": [
    "user_adopted['adopted_user'] = user_adopted['visits_7_days'].apply(lambda x: 1 if x>=3 else 0)"
   ]
  },
  {
   "cell_type": "code",
   "execution_count": 260,
   "metadata": {},
   "outputs": [
    {
     "data": {
      "text/html": [
       "<div>\n",
       "<style scoped>\n",
       "    .dataframe tbody tr th:only-of-type {\n",
       "        vertical-align: middle;\n",
       "    }\n",
       "\n",
       "    .dataframe tbody tr th {\n",
       "        vertical-align: top;\n",
       "    }\n",
       "\n",
       "    .dataframe thead th {\n",
       "        text-align: right;\n",
       "    }\n",
       "</style>\n",
       "<table border=\"1\" class=\"dataframe\">\n",
       "  <thead>\n",
       "    <tr style=\"text-align: right;\">\n",
       "      <th></th>\n",
       "      <th>user_id</th>\n",
       "      <th>visits_7_days</th>\n",
       "      <th>adopted_user</th>\n",
       "    </tr>\n",
       "  </thead>\n",
       "  <tbody>\n",
       "    <tr>\n",
       "      <td>0</td>\n",
       "      <td>1</td>\n",
       "      <td>1.0</td>\n",
       "      <td>0</td>\n",
       "    </tr>\n",
       "    <tr>\n",
       "      <td>1</td>\n",
       "      <td>2</td>\n",
       "      <td>3.0</td>\n",
       "      <td>1</td>\n",
       "    </tr>\n",
       "    <tr>\n",
       "      <td>2</td>\n",
       "      <td>3</td>\n",
       "      <td>1.0</td>\n",
       "      <td>0</td>\n",
       "    </tr>\n",
       "    <tr>\n",
       "      <td>3</td>\n",
       "      <td>4</td>\n",
       "      <td>1.0</td>\n",
       "      <td>0</td>\n",
       "    </tr>\n",
       "    <tr>\n",
       "      <td>4</td>\n",
       "      <td>5</td>\n",
       "      <td>1.0</td>\n",
       "      <td>0</td>\n",
       "    </tr>\n",
       "  </tbody>\n",
       "</table>\n",
       "</div>"
      ],
      "text/plain": [
       "   user_id  visits_7_days  adopted_user\n",
       "0        1            1.0             0\n",
       "1        2            3.0             1\n",
       "2        3            1.0             0\n",
       "3        4            1.0             0\n",
       "4        5            1.0             0"
      ]
     },
     "execution_count": 260,
     "metadata": {},
     "output_type": "execute_result"
    }
   ],
   "source": [
    "user_adopted.head()"
   ]
  },
  {
   "cell_type": "code",
   "execution_count": 261,
   "metadata": {},
   "outputs": [
    {
     "data": {
      "text/plain": [
       "0    7221\n",
       "1    1602\n",
       "Name: adopted_user, dtype: int64"
      ]
     },
     "execution_count": 261,
     "metadata": {},
     "output_type": "execute_result"
    }
   ],
   "source": [
    "user_adopted.adopted_user.value_counts()"
   ]
  },
  {
   "cell_type": "code",
   "execution_count": 262,
   "metadata": {},
   "outputs": [],
   "source": [
    "user_adopted.drop('visits_7_days', axis = 1, inplace = True)\n",
    "user_adopted.rename(columns={\"user_id\": \"object_id\"}, inplace=True)"
   ]
  },
  {
   "cell_type": "code",
   "execution_count": 264,
   "metadata": {},
   "outputs": [],
   "source": [
    "user_adopted.set_index(\"object_id\", inplace = True)"
   ]
  },
  {
   "cell_type": "markdown",
   "metadata": {},
   "source": [
    "#### Joining the above _user_adopted_ dataframe with the original _users_ dataframe."
   ]
  },
  {
   "cell_type": "code",
   "execution_count": 292,
   "metadata": {},
   "outputs": [],
   "source": [
    "df_users = users.join(user_adopted, on = 'object_id', how='left')"
   ]
  },
  {
   "cell_type": "code",
   "execution_count": 293,
   "metadata": {},
   "outputs": [
    {
     "data": {
      "text/html": [
       "<div>\n",
       "<style scoped>\n",
       "    .dataframe tbody tr th:only-of-type {\n",
       "        vertical-align: middle;\n",
       "    }\n",
       "\n",
       "    .dataframe tbody tr th {\n",
       "        vertical-align: top;\n",
       "    }\n",
       "\n",
       "    .dataframe thead th {\n",
       "        text-align: right;\n",
       "    }\n",
       "</style>\n",
       "<table border=\"1\" class=\"dataframe\">\n",
       "  <thead>\n",
       "    <tr style=\"text-align: right;\">\n",
       "      <th></th>\n",
       "      <th>object_id</th>\n",
       "      <th>creation_time</th>\n",
       "      <th>name</th>\n",
       "      <th>email</th>\n",
       "      <th>creation_source</th>\n",
       "      <th>last_session_creation_time</th>\n",
       "      <th>opted_in_to_mailing_list</th>\n",
       "      <th>enabled_for_marketing_drip</th>\n",
       "      <th>org_id</th>\n",
       "      <th>invited_by_user_id</th>\n",
       "      <th>adopted_user</th>\n",
       "    </tr>\n",
       "  </thead>\n",
       "  <tbody>\n",
       "    <tr>\n",
       "      <td>0</td>\n",
       "      <td>1</td>\n",
       "      <td>2014-04-22 03:53:30</td>\n",
       "      <td>Clausen August</td>\n",
       "      <td>AugustCClausen@yahoo.com</td>\n",
       "      <td>GUEST_INVITE</td>\n",
       "      <td>2014-04-22 03:53:30</td>\n",
       "      <td>1</td>\n",
       "      <td>0</td>\n",
       "      <td>11</td>\n",
       "      <td>10803.0</td>\n",
       "      <td>0.0</td>\n",
       "    </tr>\n",
       "    <tr>\n",
       "      <td>1</td>\n",
       "      <td>2</td>\n",
       "      <td>2013-11-15 03:45:04</td>\n",
       "      <td>Poole Matthew</td>\n",
       "      <td>MatthewPoole@gustr.com</td>\n",
       "      <td>ORG_INVITE</td>\n",
       "      <td>2014-03-31 03:45:04</td>\n",
       "      <td>0</td>\n",
       "      <td>0</td>\n",
       "      <td>1</td>\n",
       "      <td>316.0</td>\n",
       "      <td>1.0</td>\n",
       "    </tr>\n",
       "    <tr>\n",
       "      <td>2</td>\n",
       "      <td>3</td>\n",
       "      <td>2013-03-19 23:14:52</td>\n",
       "      <td>Bottrill Mitchell</td>\n",
       "      <td>MitchellBottrill@gustr.com</td>\n",
       "      <td>ORG_INVITE</td>\n",
       "      <td>2013-03-19 23:14:52</td>\n",
       "      <td>0</td>\n",
       "      <td>0</td>\n",
       "      <td>94</td>\n",
       "      <td>1525.0</td>\n",
       "      <td>0.0</td>\n",
       "    </tr>\n",
       "    <tr>\n",
       "      <td>3</td>\n",
       "      <td>4</td>\n",
       "      <td>2013-05-21 08:09:28</td>\n",
       "      <td>Clausen Nicklas</td>\n",
       "      <td>NicklasSClausen@yahoo.com</td>\n",
       "      <td>GUEST_INVITE</td>\n",
       "      <td>2013-05-22 08:09:28</td>\n",
       "      <td>0</td>\n",
       "      <td>0</td>\n",
       "      <td>1</td>\n",
       "      <td>5151.0</td>\n",
       "      <td>0.0</td>\n",
       "    </tr>\n",
       "    <tr>\n",
       "      <td>4</td>\n",
       "      <td>5</td>\n",
       "      <td>2013-01-17 10:14:20</td>\n",
       "      <td>Raw Grace</td>\n",
       "      <td>GraceRaw@yahoo.com</td>\n",
       "      <td>GUEST_INVITE</td>\n",
       "      <td>2013-01-22 10:14:20</td>\n",
       "      <td>0</td>\n",
       "      <td>0</td>\n",
       "      <td>193</td>\n",
       "      <td>5240.0</td>\n",
       "      <td>0.0</td>\n",
       "    </tr>\n",
       "  </tbody>\n",
       "</table>\n",
       "</div>"
      ],
      "text/plain": [
       "   object_id       creation_time               name  \\\n",
       "0          1 2014-04-22 03:53:30     Clausen August   \n",
       "1          2 2013-11-15 03:45:04      Poole Matthew   \n",
       "2          3 2013-03-19 23:14:52  Bottrill Mitchell   \n",
       "3          4 2013-05-21 08:09:28    Clausen Nicklas   \n",
       "4          5 2013-01-17 10:14:20          Raw Grace   \n",
       "\n",
       "                        email creation_source last_session_creation_time  \\\n",
       "0    AugustCClausen@yahoo.com    GUEST_INVITE        2014-04-22 03:53:30   \n",
       "1      MatthewPoole@gustr.com      ORG_INVITE        2014-03-31 03:45:04   \n",
       "2  MitchellBottrill@gustr.com      ORG_INVITE        2013-03-19 23:14:52   \n",
       "3   NicklasSClausen@yahoo.com    GUEST_INVITE        2013-05-22 08:09:28   \n",
       "4          GraceRaw@yahoo.com    GUEST_INVITE        2013-01-22 10:14:20   \n",
       "\n",
       "   opted_in_to_mailing_list  enabled_for_marketing_drip  org_id  \\\n",
       "0                         1                           0      11   \n",
       "1                         0                           0       1   \n",
       "2                         0                           0      94   \n",
       "3                         0                           0       1   \n",
       "4                         0                           0     193   \n",
       "\n",
       "   invited_by_user_id  adopted_user  \n",
       "0             10803.0           0.0  \n",
       "1               316.0           1.0  \n",
       "2              1525.0           0.0  \n",
       "3              5151.0           0.0  \n",
       "4              5240.0           0.0  "
      ]
     },
     "execution_count": 293,
     "metadata": {},
     "output_type": "execute_result"
    }
   ],
   "source": [
    "df_users.head()"
   ]
  },
  {
   "cell_type": "code",
   "execution_count": 294,
   "metadata": {},
   "outputs": [
    {
     "name": "stdout",
     "output_type": "stream",
     "text": [
      "<class 'pandas.core.frame.DataFrame'>\n",
      "RangeIndex: 12000 entries, 0 to 11999\n",
      "Data columns (total 11 columns):\n",
      "object_id                     12000 non-null int64\n",
      "creation_time                 12000 non-null datetime64[ns]\n",
      "name                          12000 non-null object\n",
      "email                         12000 non-null object\n",
      "creation_source               12000 non-null object\n",
      "last_session_creation_time    8823 non-null datetime64[ns]\n",
      "opted_in_to_mailing_list      12000 non-null int64\n",
      "enabled_for_marketing_drip    12000 non-null int64\n",
      "org_id                        12000 non-null int64\n",
      "invited_by_user_id            6417 non-null float64\n",
      "adopted_user                  8823 non-null float64\n",
      "dtypes: datetime64[ns](2), float64(2), int64(4), object(3)\n",
      "memory usage: 1.0+ MB\n"
     ]
    }
   ],
   "source": [
    "df_users.info()"
   ]
  },
  {
   "cell_type": "markdown",
   "metadata": {},
   "source": [
    "##### The null values in the _adopted_user_ and _last_session_creation_time_ can be filled in with _0_ because we can assume that those users aren't adopted users.\n"
   ]
  },
  {
   "cell_type": "code",
   "execution_count": 295,
   "metadata": {},
   "outputs": [],
   "source": [
    "df_users['last_session_creation_time'].fillna(0, inplace = True)\n",
    "df_users['adopted_user'].fillna(0, inplace = True)"
   ]
  },
  {
   "cell_type": "code",
   "execution_count": 296,
   "metadata": {},
   "outputs": [
    {
     "data": {
      "text/html": [
       "<div>\n",
       "<style scoped>\n",
       "    .dataframe tbody tr th:only-of-type {\n",
       "        vertical-align: middle;\n",
       "    }\n",
       "\n",
       "    .dataframe tbody tr th {\n",
       "        vertical-align: top;\n",
       "    }\n",
       "\n",
       "    .dataframe thead th {\n",
       "        text-align: right;\n",
       "    }\n",
       "</style>\n",
       "<table border=\"1\" class=\"dataframe\">\n",
       "  <thead>\n",
       "    <tr style=\"text-align: right;\">\n",
       "      <th></th>\n",
       "      <th>count</th>\n",
       "      <th>mean</th>\n",
       "      <th>std</th>\n",
       "      <th>min</th>\n",
       "      <th>25%</th>\n",
       "      <th>50%</th>\n",
       "      <th>75%</th>\n",
       "      <th>max</th>\n",
       "    </tr>\n",
       "  </thead>\n",
       "  <tbody>\n",
       "    <tr>\n",
       "      <td>object_id</td>\n",
       "      <td>12000.0</td>\n",
       "      <td>6000.500000</td>\n",
       "      <td>3464.245950</td>\n",
       "      <td>1.0</td>\n",
       "      <td>3000.75</td>\n",
       "      <td>6000.5</td>\n",
       "      <td>9000.25</td>\n",
       "      <td>12000.0</td>\n",
       "    </tr>\n",
       "    <tr>\n",
       "      <td>opted_in_to_mailing_list</td>\n",
       "      <td>12000.0</td>\n",
       "      <td>0.249500</td>\n",
       "      <td>0.432742</td>\n",
       "      <td>0.0</td>\n",
       "      <td>0.00</td>\n",
       "      <td>0.0</td>\n",
       "      <td>0.00</td>\n",
       "      <td>1.0</td>\n",
       "    </tr>\n",
       "    <tr>\n",
       "      <td>enabled_for_marketing_drip</td>\n",
       "      <td>12000.0</td>\n",
       "      <td>0.149333</td>\n",
       "      <td>0.356432</td>\n",
       "      <td>0.0</td>\n",
       "      <td>0.00</td>\n",
       "      <td>0.0</td>\n",
       "      <td>0.00</td>\n",
       "      <td>1.0</td>\n",
       "    </tr>\n",
       "    <tr>\n",
       "      <td>org_id</td>\n",
       "      <td>12000.0</td>\n",
       "      <td>141.884583</td>\n",
       "      <td>124.056723</td>\n",
       "      <td>0.0</td>\n",
       "      <td>29.00</td>\n",
       "      <td>108.0</td>\n",
       "      <td>238.25</td>\n",
       "      <td>416.0</td>\n",
       "    </tr>\n",
       "    <tr>\n",
       "      <td>invited_by_user_id</td>\n",
       "      <td>6417.0</td>\n",
       "      <td>5962.957145</td>\n",
       "      <td>3383.761968</td>\n",
       "      <td>3.0</td>\n",
       "      <td>3058.00</td>\n",
       "      <td>5954.0</td>\n",
       "      <td>8817.00</td>\n",
       "      <td>11999.0</td>\n",
       "    </tr>\n",
       "    <tr>\n",
       "      <td>adopted_user</td>\n",
       "      <td>12000.0</td>\n",
       "      <td>0.133500</td>\n",
       "      <td>0.340128</td>\n",
       "      <td>0.0</td>\n",
       "      <td>0.00</td>\n",
       "      <td>0.0</td>\n",
       "      <td>0.00</td>\n",
       "      <td>1.0</td>\n",
       "    </tr>\n",
       "  </tbody>\n",
       "</table>\n",
       "</div>"
      ],
      "text/plain": [
       "                              count         mean          std  min      25%  \\\n",
       "object_id                   12000.0  6000.500000  3464.245950  1.0  3000.75   \n",
       "opted_in_to_mailing_list    12000.0     0.249500     0.432742  0.0     0.00   \n",
       "enabled_for_marketing_drip  12000.0     0.149333     0.356432  0.0     0.00   \n",
       "org_id                      12000.0   141.884583   124.056723  0.0    29.00   \n",
       "invited_by_user_id           6417.0  5962.957145  3383.761968  3.0  3058.00   \n",
       "adopted_user                12000.0     0.133500     0.340128  0.0     0.00   \n",
       "\n",
       "                               50%      75%      max  \n",
       "object_id                   6000.5  9000.25  12000.0  \n",
       "opted_in_to_mailing_list       0.0     0.00      1.0  \n",
       "enabled_for_marketing_drip     0.0     0.00      1.0  \n",
       "org_id                       108.0   238.25    416.0  \n",
       "invited_by_user_id          5954.0  8817.00  11999.0  \n",
       "adopted_user                   0.0     0.00      1.0  "
      ]
     },
     "execution_count": 296,
     "metadata": {},
     "output_type": "execute_result"
    }
   ],
   "source": [
    "df_users.describe().T"
   ]
  },
  {
   "cell_type": "markdown",
   "metadata": {},
   "source": [
    "#### Let's see if we can extract useful information from the email variable like it's domain. "
   ]
  },
  {
   "cell_type": "code",
   "execution_count": 297,
   "metadata": {},
   "outputs": [],
   "source": [
    "df_users['email_domain'] = df_users.email.apply(lambda x: x.split('@')[1])"
   ]
  },
  {
   "cell_type": "code",
   "execution_count": 298,
   "metadata": {},
   "outputs": [
    {
     "data": {
      "text/plain": [
       "gmail.com         3562\n",
       "yahoo.com         2447\n",
       "jourrapide.com    1259\n",
       "cuvox.de          1202\n",
       "gustr.com         1179\n",
       "                  ... \n",
       "pgjfv.com            1\n",
       "kqdqv.com            1\n",
       "vlquf.com            1\n",
       "hgixr.com            1\n",
       "wrttl.com            1\n",
       "Name: email_domain, Length: 1184, dtype: int64"
      ]
     },
     "execution_count": 298,
     "metadata": {},
     "output_type": "execute_result"
    }
   ],
   "source": [
    "df_users['email_domain'].value_counts()"
   ]
  },
  {
   "cell_type": "code",
   "execution_count": 310,
   "metadata": {},
   "outputs": [
    {
     "data": {
      "text/plain": [
       "array(['GUEST_INVITE', 'ORG_INVITE'], dtype=object)"
      ]
     },
     "execution_count": 310,
     "metadata": {},
     "output_type": "execute_result"
    }
   ],
   "source": [
    "# Also checking the creation_source for NON NULL invited_by_user column\n",
    "df_users[~df_users.invited_by_user_id.isnull()].creation_source.unique()"
   ]
  },
  {
   "cell_type": "markdown",
   "metadata": {},
   "source": [
    "#### There are too many email domains and most of them seem fake domains so it's good to drop the column entirely. We can also drop the _name_ and _object_id_ columns.\n",
    "\n",
    "And for the _invited_by_user_id_ let's convert the NULL values to 0 because the column has a Non Null value only if the _creation_source_ was a GUEST_INVITE or a ORG_INVITE anyways. \n",
    "\n",
    "For the _creation_time_ column let's add a column which calculates how old the account is, i.e. the number of days since the account was created.\n",
    "\n",
    "And since _last_session_creation_time_ can be removed as well because it was in a sense used to create the _adopted_user_ column."
   ]
  },
  {
   "cell_type": "code",
   "execution_count": 299,
   "metadata": {},
   "outputs": [],
   "source": [
    "df_users.drop(['object_id', 'name', 'email', 'email_domain'], axis = 1, inplace = True)"
   ]
  },
  {
   "cell_type": "code",
   "execution_count": 312,
   "metadata": {},
   "outputs": [],
   "source": [
    "df_users.invited_by_user_id.fillna(0, inplace=True)"
   ]
  },
  {
   "cell_type": "code",
   "execution_count": 329,
   "metadata": {},
   "outputs": [],
   "source": [
    "df_users['days_since_creation'] = (user_eng.time_stamp.max() - df_users.creation_time).dt.days"
   ]
  },
  {
   "cell_type": "code",
   "execution_count": 330,
   "metadata": {},
   "outputs": [],
   "source": [
    "df_users.drop(['creation_time', 'last_session_creation_time'], axis = 1, inplace = True)"
   ]
  },
  {
   "cell_type": "markdown",
   "metadata": {},
   "source": [
    "#### Let's OneHotEncode the _creation_source_ column."
   ]
  },
  {
   "cell_type": "code",
   "execution_count": 332,
   "metadata": {},
   "outputs": [],
   "source": [
    "df_users = pd.get_dummies(df_users, columns=['creation_source'])"
   ]
  },
  {
   "cell_type": "code",
   "execution_count": 336,
   "metadata": {},
   "outputs": [
    {
     "data": {
      "text/html": [
       "<div>\n",
       "<style scoped>\n",
       "    .dataframe tbody tr th:only-of-type {\n",
       "        vertical-align: middle;\n",
       "    }\n",
       "\n",
       "    .dataframe tbody tr th {\n",
       "        vertical-align: top;\n",
       "    }\n",
       "\n",
       "    .dataframe thead th {\n",
       "        text-align: right;\n",
       "    }\n",
       "</style>\n",
       "<table border=\"1\" class=\"dataframe\">\n",
       "  <thead>\n",
       "    <tr style=\"text-align: right;\">\n",
       "      <th></th>\n",
       "      <th>count</th>\n",
       "      <th>mean</th>\n",
       "      <th>std</th>\n",
       "      <th>min</th>\n",
       "      <th>25%</th>\n",
       "      <th>50%</th>\n",
       "      <th>75%</th>\n",
       "      <th>max</th>\n",
       "    </tr>\n",
       "  </thead>\n",
       "  <tbody>\n",
       "    <tr>\n",
       "      <td>opted_in_to_mailing_list</td>\n",
       "      <td>12000.0</td>\n",
       "      <td>0.249500</td>\n",
       "      <td>0.432742</td>\n",
       "      <td>0.0</td>\n",
       "      <td>0.0</td>\n",
       "      <td>0.0</td>\n",
       "      <td>0.00</td>\n",
       "      <td>1.0</td>\n",
       "    </tr>\n",
       "    <tr>\n",
       "      <td>enabled_for_marketing_drip</td>\n",
       "      <td>12000.0</td>\n",
       "      <td>0.149333</td>\n",
       "      <td>0.356432</td>\n",
       "      <td>0.0</td>\n",
       "      <td>0.0</td>\n",
       "      <td>0.0</td>\n",
       "      <td>0.00</td>\n",
       "      <td>1.0</td>\n",
       "    </tr>\n",
       "    <tr>\n",
       "      <td>org_id</td>\n",
       "      <td>12000.0</td>\n",
       "      <td>141.884583</td>\n",
       "      <td>124.056723</td>\n",
       "      <td>0.0</td>\n",
       "      <td>29.0</td>\n",
       "      <td>108.0</td>\n",
       "      <td>238.25</td>\n",
       "      <td>416.0</td>\n",
       "    </tr>\n",
       "    <tr>\n",
       "      <td>invited_by_user_id</td>\n",
       "      <td>12000.0</td>\n",
       "      <td>3188.691333</td>\n",
       "      <td>3869.027693</td>\n",
       "      <td>0.0</td>\n",
       "      <td>0.0</td>\n",
       "      <td>875.0</td>\n",
       "      <td>6317.00</td>\n",
       "      <td>11999.0</td>\n",
       "    </tr>\n",
       "    <tr>\n",
       "      <td>adopted_user</td>\n",
       "      <td>12000.0</td>\n",
       "      <td>0.133500</td>\n",
       "      <td>0.340128</td>\n",
       "      <td>0.0</td>\n",
       "      <td>0.0</td>\n",
       "      <td>0.0</td>\n",
       "      <td>0.00</td>\n",
       "      <td>1.0</td>\n",
       "    </tr>\n",
       "    <tr>\n",
       "      <td>days_since_creation</td>\n",
       "      <td>12000.0</td>\n",
       "      <td>324.568000</td>\n",
       "      <td>216.646173</td>\n",
       "      <td>6.0</td>\n",
       "      <td>129.0</td>\n",
       "      <td>304.0</td>\n",
       "      <td>506.00</td>\n",
       "      <td>736.0</td>\n",
       "    </tr>\n",
       "    <tr>\n",
       "      <td>creation_source_GUEST_INVITE</td>\n",
       "      <td>12000.0</td>\n",
       "      <td>0.180250</td>\n",
       "      <td>0.384412</td>\n",
       "      <td>0.0</td>\n",
       "      <td>0.0</td>\n",
       "      <td>0.0</td>\n",
       "      <td>0.00</td>\n",
       "      <td>1.0</td>\n",
       "    </tr>\n",
       "    <tr>\n",
       "      <td>creation_source_ORG_INVITE</td>\n",
       "      <td>12000.0</td>\n",
       "      <td>0.354500</td>\n",
       "      <td>0.478381</td>\n",
       "      <td>0.0</td>\n",
       "      <td>0.0</td>\n",
       "      <td>0.0</td>\n",
       "      <td>1.00</td>\n",
       "      <td>1.0</td>\n",
       "    </tr>\n",
       "    <tr>\n",
       "      <td>creation_source_PERSONAL_PROJECTS</td>\n",
       "      <td>12000.0</td>\n",
       "      <td>0.175917</td>\n",
       "      <td>0.380765</td>\n",
       "      <td>0.0</td>\n",
       "      <td>0.0</td>\n",
       "      <td>0.0</td>\n",
       "      <td>0.00</td>\n",
       "      <td>1.0</td>\n",
       "    </tr>\n",
       "    <tr>\n",
       "      <td>creation_source_SIGNUP</td>\n",
       "      <td>12000.0</td>\n",
       "      <td>0.173917</td>\n",
       "      <td>0.379054</td>\n",
       "      <td>0.0</td>\n",
       "      <td>0.0</td>\n",
       "      <td>0.0</td>\n",
       "      <td>0.00</td>\n",
       "      <td>1.0</td>\n",
       "    </tr>\n",
       "    <tr>\n",
       "      <td>creation_source_SIGNUP_GOOGLE_AUTH</td>\n",
       "      <td>12000.0</td>\n",
       "      <td>0.115417</td>\n",
       "      <td>0.319537</td>\n",
       "      <td>0.0</td>\n",
       "      <td>0.0</td>\n",
       "      <td>0.0</td>\n",
       "      <td>0.00</td>\n",
       "      <td>1.0</td>\n",
       "    </tr>\n",
       "  </tbody>\n",
       "</table>\n",
       "</div>"
      ],
      "text/plain": [
       "                                      count         mean          std  min  \\\n",
       "opted_in_to_mailing_list            12000.0     0.249500     0.432742  0.0   \n",
       "enabled_for_marketing_drip          12000.0     0.149333     0.356432  0.0   \n",
       "org_id                              12000.0   141.884583   124.056723  0.0   \n",
       "invited_by_user_id                  12000.0  3188.691333  3869.027693  0.0   \n",
       "adopted_user                        12000.0     0.133500     0.340128  0.0   \n",
       "days_since_creation                 12000.0   324.568000   216.646173  6.0   \n",
       "creation_source_GUEST_INVITE        12000.0     0.180250     0.384412  0.0   \n",
       "creation_source_ORG_INVITE          12000.0     0.354500     0.478381  0.0   \n",
       "creation_source_PERSONAL_PROJECTS   12000.0     0.175917     0.380765  0.0   \n",
       "creation_source_SIGNUP              12000.0     0.173917     0.379054  0.0   \n",
       "creation_source_SIGNUP_GOOGLE_AUTH  12000.0     0.115417     0.319537  0.0   \n",
       "\n",
       "                                      25%    50%      75%      max  \n",
       "opted_in_to_mailing_list              0.0    0.0     0.00      1.0  \n",
       "enabled_for_marketing_drip            0.0    0.0     0.00      1.0  \n",
       "org_id                               29.0  108.0   238.25    416.0  \n",
       "invited_by_user_id                    0.0  875.0  6317.00  11999.0  \n",
       "adopted_user                          0.0    0.0     0.00      1.0  \n",
       "days_since_creation                 129.0  304.0   506.00    736.0  \n",
       "creation_source_GUEST_INVITE          0.0    0.0     0.00      1.0  \n",
       "creation_source_ORG_INVITE            0.0    0.0     1.00      1.0  \n",
       "creation_source_PERSONAL_PROJECTS     0.0    0.0     0.00      1.0  \n",
       "creation_source_SIGNUP                0.0    0.0     0.00      1.0  \n",
       "creation_source_SIGNUP_GOOGLE_AUTH    0.0    0.0     0.00      1.0  "
      ]
     },
     "execution_count": 336,
     "metadata": {},
     "output_type": "execute_result"
    }
   ],
   "source": [
    "df_users.describe().T"
   ]
  },
  {
   "cell_type": "code",
   "execution_count": 339,
   "metadata": {},
   "outputs": [
    {
     "data": {
      "text/plain": [
       "opted_in_to_mailing_list              0.008097\n",
       "enabled_for_marketing_drip            0.004653\n",
       "org_id                                0.064523\n",
       "invited_by_user_id                    0.021596\n",
       "adopted_user                          1.000000\n",
       "days_since_creation                   0.088020\n",
       "creation_source_GUEST_INVITE          0.045408\n",
       "creation_source_ORG_INVITE           -0.007636\n",
       "creation_source_PERSONAL_PROJECTS    -0.075817\n",
       "creation_source_SIGNUP                0.009299\n",
       "creation_source_SIGNUP_GOOGLE_AUTH    0.036119\n",
       "Name: adopted_user, dtype: float64"
      ]
     },
     "execution_count": 339,
     "metadata": {},
     "output_type": "execute_result"
    }
   ],
   "source": [
    "df_users.corr()['adopted_user']"
   ]
  },
  {
   "cell_type": "code",
   "execution_count": 348,
   "metadata": {},
   "outputs": [],
   "source": [
    "#sns.pairplot(df_users, hue = 'adopted_user')"
   ]
  },
  {
   "cell_type": "code",
   "execution_count": 354,
   "metadata": {},
   "outputs": [
    {
     "data": {
      "image/png": "[encoded data removed]",
      "text/plain": [
       "<Figure size 414.125x216 with 1 Axes>"
      ]
     },
     "metadata": {
      "needs_background": "light"
     },
     "output_type": "display_data"
    },
    {
     "data": {
      "image/png": "[encoded data removed]",
      "text/plain": [
       "<Figure size 414.125x216 with 1 Axes>"
      ]
     },
     "metadata": {
      "needs_background": "light"
     },
     "output_type": "display_data"
    },
    {
     "data": {
      "image/png": "[encoded data removed]",
      "text/plain": [
       "<Figure size 414.125x216 with 1 Axes>"
      ]
     },
     "metadata": {
      "needs_background": "light"
     },
     "output_type": "display_data"
    },
    {
     "data": {
      "image/png": "[encoded data removed]",
      "text/plain": [
       "<Figure size 414.125x216 with 1 Axes>"
      ]
     },
     "metadata": {
      "needs_background": "light"
     },
     "output_type": "display_data"
    },
    {
     "data": {
      "image/png": "[encoded data removed]",
      "text/plain": [
       "<Figure size 414.125x216 with 1 Axes>"
      ]
     },
     "metadata": {
      "needs_background": "light"
     },
     "output_type": "display_data"
    },
    {
     "data": {
      "image/png": "[encoded data removed]",
      "text/plain": [
       "<Figure size 414.125x216 with 1 Axes>"
      ]
     },
     "metadata": {
      "needs_background": "light"
     },
     "output_type": "display_data"
    },
    {
     "data": {
      "image/png": "[encoded data removed]",
      "text/plain": [
       "<Figure size 414.125x216 with 1 Axes>"
      ]
     },
     "metadata": {
      "needs_background": "light"
     },
     "output_type": "display_data"
    }
   ],
   "source": [
    "for col in ['opted_in_to_mailing_list', 'enabled_for_marketing_drip', 'creation_source_GUEST_INVITE',\n",
    "           'creation_source_ORG_INVITE', 'creation_source_PERSONAL_PROJECTS', 'creation_source_SIGNUP',\n",
    "           'creation_source_SIGNUP_GOOGLE_AUTH']:\n",
    "    g = sns.FacetGrid(df_users, hue = \"adopted_user\", height=3, aspect=1.5,)\n",
    "    g.map(plt.hist, col, alpha=.5, bins = 20)\n",
    "    g.add_legend()        "
   ]
  },
  {
   "cell_type": "code",
   "execution_count": 390,
   "metadata": {},
   "outputs": [
    {
     "data": {
      "image/png": "[encoded data removed]",
      "text/plain": [
       "<Figure size 666.125x288 with 1 Axes>"
      ]
     },
     "metadata": {
      "needs_background": "light"
     },
     "output_type": "display_data"
    }
   ],
   "source": [
    "g = sns.FacetGrid(df_users, hue = \"adopted_user\", height=4, aspect=2,)\n",
    "_ = g.map(plt.hist, 'days_since_creation', alpha=0.8, bins = 20)\n",
    "_ = g.add_legend() \n",
    "#sns.distplot(df_users['days_since_creation'], kde = False, bins = 20, hue = 'adopted_user')"
   ]
  },
  {
   "cell_type": "markdown",
   "metadata": {},
   "source": [
    "We can see that the _adopted_user_ class is pretty unbalanced because only about 13% of the total 12000 users are adopted.\n",
    "\n",
    "#### Let's try to fit Random Forest Regression model and find the feature importance. Since we will be using random forest using trees we don't need to scale any features."
   ]
  },
  {
   "cell_type": "code",
   "execution_count": 356,
   "metadata": {},
   "outputs": [],
   "source": [
    "# Importing necessary packages\n",
    "from sklearn.ensemble import RandomForestClassifier\n",
    "from sklearn.metrics import f1_score, precision_score, recall_score, accuracy_score, confusion_matrix\n",
    "from sklearn.model_selection import train_test_split\n",
    "from sklearn.model_selection import GridSearchCV\n",
    "import time\n",
    "from sklearn.metrics import classification_report, confusion_matrix, roc_auc_score, roc_curve, accuracy_score,\\\n",
    "precision_score, recall_score, f1_score"
   ]
  },
  {
   "cell_type": "code",
   "execution_count": 377,
   "metadata": {},
   "outputs": [],
   "source": [
    "def cv_optimize(model, parameters, Xtrain, ytrain, n_folds = 5):\n",
    "    \"\"\"\n",
    "    Cross validation. Function to hypertune the model \"model\" with the input paramete distribution using\n",
    "    \"parameters\" on the training data.\n",
    "    The output will be the best estimator whose average score on all folds will be best. \n",
    "    \"\"\"\n",
    "    clf = GridSearchCV(model, param_grid = parameters, cv = n_folds, scoring = 'accuracy')\n",
    "    t0 = time.time()\n",
    "    clf.fit(Xtrain, ytrain)\n",
    "    time_fit = time.time() - t0 \n",
    "    print('\\n\\n\\n=============================',type(model).__name__,'=================================\\n')\n",
    "    print(\"It takes %.3f seconds for tuning \" % (time_fit))\n",
    "    print(\"BEST PARAMS\", clf.best_params_)\n",
    "    best = clf.best_estimator_\n",
    "    return best\n",
    "    \n",
    "def do_classify(model, parameters, df, targetname, scale = True, cols_to_transform = 'numeric', \n",
    "                featurenames = 'all', train_size = 0.8):\n",
    "      \n",
    "    # Creating the X and y variables for our model\n",
    "    if featurenames == 'all':\n",
    "        X = df.drop([targetname], axis = 1)\n",
    "    else:\n",
    "        X = df[featurenames]\n",
    "        \n",
    "    y = df[targetname]\n",
    "    \n",
    "    Xtrain, Xtest, ytrain, ytest = train_test_split(X, y, train_size = train_size)\n",
    "\n",
    "    model = cv_optimize(model, parameters, Xtrain, ytrain)\n",
    "    t0 = time.time()\n",
    "    model = model.fit(Xtrain, ytrain)\n",
    "    time_fit = time.time() - t0 \n",
    "    print(\"It takes %.3f seconds for fitting\" % (time_fit))\n",
    "    training_accuracy = model.score(Xtrain, ytrain)\n",
    "    test_accuracy = model.score(Xtest, ytest)\n",
    "    precision = precision_score(ytest, model.predict(Xtest))\n",
    "    recall = recall_score(ytest, model.predict(Xtest))\n",
    "    AUC = roc_auc_score(ytest, model.predict_proba(Xtest)[:,1])\n",
    "            \n",
    "    print(\"Accuracy on training data: {:0.2f}\".format(training_accuracy))\n",
    "    print(\"Accuracy on test data:     {:0.2f}\".format(test_accuracy))\n",
    "    print(\"Precision on test data:    {:0.2f}\".format(precision))\n",
    "    print(\"Recall on test data:       {:0.2f}\".format(recall))\n",
    "    print(\"AUC on test data:          {:0.2f}\".format(AUC))\n",
    "    print(\"=======Confusion Matrix=========\")\n",
    "    print(confusion_matrix(ytest, model.predict(Xtest)))\n",
    "    print(\"=======Classification report=======\")\n",
    "    print(classification_report(ytest, model.predict(Xtest)))\n",
    "    print(\"=\"*100)\n",
    "    print(\"=\"*100)\n",
    "    print(\"=\"*100)\n",
    "    return model, Xtrain, ytrain, Xtest, ytest\n"
   ]
  },
  {
   "cell_type": "code",
   "execution_count": 378,
   "metadata": {},
   "outputs": [],
   "source": [
    "# Random Forest model\n",
    "model_rf = RandomForestClassifier(class_weight='balanced') # adding balanced to handle the unbalanced data\n",
    "parameters_rf = {\n",
    "                 'n_estimators': [10, 25, 50, 75, 100],\n",
    "                 'criterion': [\"gini\", \"entropy\"],\n",
    "                 'max_depth': [3, 6, 10, 12],\n",
    "                 'max_features': ['auto', 'sqrt']\n",
    "                }"
   ]
  },
  {
   "cell_type": "code",
   "execution_count": 379,
   "metadata": {},
   "outputs": [
    {
     "name": "stdout",
     "output_type": "stream",
     "text": [
      "\n",
      "\n",
      "\n",
      "============================= RandomForestClassifier =================================\n",
      "\n",
      "It takes 93.721 seconds for tuning \n",
      "BEST PARAMS {'criterion': 'gini', 'max_depth': 12, 'max_features': 'sqrt', 'n_estimators': 100}\n",
      "It takes 0.765 seconds for fitting\n",
      "Accuracy on training data: 0.83\n",
      "Accuracy on test data:     0.72\n",
      "Precision on test data:    0.20\n",
      "Recall on test data:       0.33\n",
      "AUC on test data:          0.63\n",
      "=======Confusion Matrix=========\n",
      "[[1616  449]\n",
      " [ 223  112]]\n",
      "=======Classification report=======\n",
      "              precision    recall  f1-score   support\n",
      "\n",
      "         0.0       0.88      0.78      0.83      2065\n",
      "         1.0       0.20      0.33      0.25       335\n",
      "\n",
      "    accuracy                           0.72      2400\n",
      "   macro avg       0.54      0.56      0.54      2400\n",
      "weighted avg       0.78      0.72      0.75      2400\n",
      "\n",
      "====================================================================================================\n",
      "====================================================================================================\n",
      "====================================================================================================\n"
     ]
    }
   ],
   "source": [
    "model_rf, Xtrain, ytrain, Xtest, ytest = do_classify(model_rf, parameters_rf, \n",
    "                                                                  df_users, targetname = 'adopted_user')"
   ]
  },
  {
   "cell_type": "code",
   "execution_count": 380,
   "metadata": {},
   "outputs": [
    {
     "data": {
      "image/png": "[encoded data removed]",
      "text/plain": [
       "<Figure size 864x504 with 1 Axes>"
      ]
     },
     "metadata": {
      "needs_background": "light"
     },
     "output_type": "display_data"
    }
   ],
   "source": [
    "feat_imp = pd.DataFrame({'importance':model_rf.feature_importances_})    \n",
    "feat_imp['feature'] = Xtrain.columns\n",
    "feat_imp.sort_values(by='importance', ascending=False, inplace=True)\n",
    "    \n",
    "feat_imp.sort_values(by='importance', inplace=True)\n",
    "feat_imp = feat_imp.set_index('feature', drop=True)\n",
    "_ = feat_imp.plot.barh(title = 'Random Forest feature importance', figsize = (12,7))"
   ]
  },
  {
   "cell_type": "markdown",
   "metadata": {},
   "source": [
    "#### The top 5 important features seem to be:\n",
    "\n",
    "1. days_since_creation\n",
    "2. org_id\n",
    "3. invited_by_user_id\n",
    "4. creation_source_PERSONAL_PROJECTS\n",
    "5. opted_in_to_mailing_list\n",
    "\n",
    "Furture possible work: We can also add a feature which calculates the difference between the creation date of the account and the first login of the user."
   ]
  }
 ],
 "metadata": {
  "kernelspec": {
   "display_name": "Python 3 (ipykernel)",
   "language": "python",
   "name": "python3"
  },
  "language_info": {
   "codemirror_mode": {
    "name": "ipython",
    "version": 3
   },
   "file_extension": ".py",
   "mimetype": "text/x-python",
   "name": "python",
   "nbconvert_exporter": "python",
   "pygments_lexer": "ipython3",
   "version": "3.9.12"
  }
 },
 "nbformat": 4,
 "nbformat_minor": 2
}
